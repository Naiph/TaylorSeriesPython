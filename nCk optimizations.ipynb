{
 "cells": [
  {
   "cell_type": "markdown",
   "metadata": {},
   "source": [
    "nCk without optimization"
   ]
  },
  {
   "cell_type": "code",
   "execution_count": 2,
   "metadata": {},
   "outputs": [],
   "source": [
    "def fact(b):\n",
    "    if b == 0:\n",
    "        return 1\n",
    "    return b*fact(b-1)\n",
    "\n",
    "\n",
    "#%%timeit\n",
    "#n = int(input(\"Enter n: \"))\n",
    "#k = int(input(\"Enter k: \"))\n",
    "\n",
    "n = 11\n",
    "k = 4\n",
    "\n",
    "sol = fact(n)/(fact(n-k) * fact(k))\n",
    "#print(sol)"
   ]
  },
  {
   "cell_type": "code",
   "execution_count": null,
   "metadata": {
    "collapsed": true
   },
   "outputs": [],
   "source": []
  },
  {
   "cell_type": "markdown",
   "metadata": {},
   "source": [
    "nCk with "
   ]
  },
  {
   "cell_type": "markdown",
   "metadata": {},
   "source": [
    "nCk With some more Optimization"
   ]
  },
  {
   "cell_type": "code",
   "execution_count": 6,
   "metadata": {},
   "outputs": [],
   "source": [
    "#%%timeit\n",
    "#n = int(input(\"Enter n: \"))\n",
    "#k = int(input(\"Enter k: \"))\n",
    "\n",
    "n = 11\n",
    "k = 7\n",
    "nu = 1\n",
    "\n",
    "if n == k:\n",
    "    sol = 1\n",
    "    \n",
    "    \n",
    "elif (k == (n-1)) or (k == 1):\n",
    "    sol = n\n",
    "    \n",
    "\n",
    "elif k > n:\n",
    "     print(\"sdvdsdv\")\n",
    "    \n",
    "elif n-k > k:\n",
    "    for i in range(k):\n",
    "        #print(i)\n",
    "        nu = nu*(n-i)\n",
    "    sol = nu/fact(k)\n",
    "    \n",
    "else:\n",
    "    for i in range(n-k):\n",
    "        #print(i)\n",
    "        nu = nu*(n-i)\n",
    "\n",
    "    sol = nu/fact(n-k)\n",
    "    \n",
    "#print(sol)"
   ]
  }
 ],
 "metadata": {
  "kernelspec": {
   "display_name": "Python 3",
   "language": "python",
   "name": "python3"
  },
  "language_info": {
   "codemirror_mode": {
    "name": "ipython",
    "version": 3
   },
   "file_extension": ".py",
   "mimetype": "text/x-python",
   "name": "python",
   "nbconvert_exporter": "python",
   "pygments_lexer": "ipython3",
   "version": "3.6.1"
  }
 },
 "nbformat": 4,
 "nbformat_minor": 2
}
