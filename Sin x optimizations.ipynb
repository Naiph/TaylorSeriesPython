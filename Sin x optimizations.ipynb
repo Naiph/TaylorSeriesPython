{
 "cells": [
  {
   "cell_type": "markdown",
   "metadata": {},
   "source": [
    "Sin x without optimization 88us"
   ]
  },
  {
   "cell_type": "code",
   "execution_count": 2,
   "metadata": {},
   "outputs": [
    {
     "name": "stdout",
     "output_type": "stream",
     "text": [
      "9.265306106891796e-05\n",
      "9.26535896605e-05\n",
      "-5.28591572301e-10\n"
     ]
    }
   ],
   "source": [
    "#timeit\n",
    "import numpy as np\n",
    "\n",
    "def fact(b):\n",
    "    if b == 0:\n",
    "        return 1\n",
    "    return b*fact(b-1)\n",
    "\n",
    "\n",
    "#a = int(input(\"enter a power for e^x\"))\n",
    "a = 3.1415\n",
    "e = 2.71\n",
    "summ = 0\n",
    "for i in range(10):\n",
    "    p = a**(2 * i + 1)\n",
    "    f = fact(2 * i + 1)\n",
    "    #print(\"i is {} p is {} f is {}\".format(i,p,f))\n",
    "    term = ((-1)**i)*p/f\n",
    "    summ = summ + term\n",
    "    #print(term)\n",
    "    #print(summ)\n",
    "    \n",
    "print(summ)\n",
    "print(np.sin(a))\n",
    "\n",
    "print(summ - np.sin(a))"
   ]
  },
  {
   "cell_type": "markdown",
   "metadata": {},
   "source": [
    "Sin x with some optimization 12.1us"
   ]
  },
  {
   "cell_type": "code",
   "execution_count": 3,
   "metadata": {},
   "outputs": [
    {
     "name": "stdout",
     "output_type": "stream",
     "text": [
      "2.6530608840492444e-06\n",
      "2.65358979335e-06\n"
     ]
    }
   ],
   "source": [
    "#%%timeit\n",
    "import numpy as np\n",
    "\n",
    "def fact(b):\n",
    "    if b == 0:\n",
    "        return 1\n",
    "    return b*fact(b-1)\n",
    "\n",
    "\n",
    "#a = int(input(\"enter a power for e^x\"))\n",
    "a = 3.14159\n",
    "summ = 0\n",
    "f = 1\n",
    "p_a = 1/a\n",
    "sgn = -1\n",
    "for i in range(10):\n",
    "    p_a  = p_a * a * a\n",
    "    if i > 0:\n",
    "        f = f * (2 * i) * (2 * i + 1)\n",
    "    #print(\"i is {} p is {} f is {}\".format(i,p,f))\n",
    "    sgn = sgn * (-1)\n",
    "    term = sgn * p_a / f\n",
    "    summ = summ + term\n",
    "    #print(term)\n",
    "    #print(summ)\n",
    "    \n",
    "print(summ)\n",
    "print(np.sin(a))"
   ]
  },
  {
   "cell_type": "markdown",
   "metadata": {},
   "source": [
    "Optimizing it more "
   ]
  },
  {
   "cell_type": "code",
   "execution_count": 4,
   "metadata": {},
   "outputs": [
    {
     "name": "stdout",
     "output_type": "stream",
     "text": [
      "9.265360000214371e-05\n",
      "9.26535896605e-05\n"
     ]
    }
   ],
   "source": [
    "#%%timeit\n",
    "import numpy as np\n",
    "\n",
    "#a = int(input(\"enter a power for sin x\"))\n",
    "a = 3.1415\n",
    "summ = a\n",
    "f = 1\n",
    "p_a = a\n",
    "sgn = 1\n",
    "for i in range(1,11):\n",
    "    p_a = p_a * a * a\n",
    "    #if i > 0:\n",
    "    f = f * (2 * i) * (2 * i + 1)\n",
    "    #print(\"i is {} p is {} f is {}\".format(i,p,f))\n",
    "    sgn = sgn * (-1)\n",
    "    term = sgn * p_a / f\n",
    "    summ = summ + term\n",
    "    #print(term)\n",
    "    #print(summ)\n",
    "    \n",
    "print(summ)\n",
    "print(np.sin(a))"
   ]
  },
  {
   "cell_type": "code",
   "execution_count": null,
   "metadata": {
    "collapsed": true
   },
   "outputs": [],
   "source": []
  }
 ],
 "metadata": {
  "kernelspec": {
   "display_name": "Python 3",
   "language": "python",
   "name": "python3"
  },
  "language_info": {
   "codemirror_mode": {
    "name": "ipython",
    "version": 3
   },
   "file_extension": ".py",
   "mimetype": "text/x-python",
   "name": "python",
   "nbconvert_exporter": "python",
   "pygments_lexer": "ipython3",
   "version": "3.6.1"
  }
 },
 "nbformat": 4,
 "nbformat_minor": 2
}
