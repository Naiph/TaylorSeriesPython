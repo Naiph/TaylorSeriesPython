{
 "cells": [
  {
   "cell_type": "code",
   "execution_count": 5,
   "metadata": {},
   "outputs": [
    {
     "name": "stdout",
     "output_type": "stream",
     "text": [
      "20.063392857142855\n",
      "20.0855369232\n"
     ]
    }
   ],
   "source": [
    "\n",
    "import numpy as np\n",
    "def fact(b):\n",
    "    if b == 0:\n",
    "        return 1\n",
    "    return b*fact(b-1)\n",
    "    \n",
    "#e^x withut optimization\n",
    "\n",
    "a = 3\n",
    "summ = 0\n",
    "p_a = 0\n",
    "\n",
    "for i in range(10):\n",
    "    p_a =  a**i\n",
    "    f = fact(i)\n",
    "    term = p_a/f\n",
    "    summ =summ + term\n",
    "    \n",
    "print(summ)\n",
    "print(np.exp(3))"
   ]
  },
  {
   "cell_type": "code",
   "execution_count": 6,
   "metadata": {},
   "outputs": [
    {
     "name": "stdout",
     "output_type": "stream",
     "text": [
      "20.063392857142855\n",
      "20.0855369232\n"
     ]
    }
   ],
   "source": [
    "#e^x with optimization\n",
    "\n",
    "a = 3\n",
    "summ = 0\n",
    "p_a = 1\n",
    "f = 1\n",
    "for i in range(1,10):\n",
    "    p_a =  p_a * a\n",
    "    f = f*i\n",
    "    term = p_a/f\n",
    "    summ =summ + term\n",
    "    \n",
    "print(summ+1)\n",
    "print(np.exp(3))"
   ]
  }
 ],
 "metadata": {
  "kernelspec": {
   "display_name": "Python 3",
   "language": "python",
   "name": "python3"
  }
 },
 "nbformat": 4,
 "nbformat_minor": 2
}
