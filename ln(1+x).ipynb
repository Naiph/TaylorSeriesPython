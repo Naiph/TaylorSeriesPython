{
 "cells": [
  {
   "cell_type": "code",
   "execution_count": 30,
   "metadata": {},
   "outputs": [
    {
     "name": "stdout",
     "output_type": "stream",
     "text": [
      "0.6936474305598223\n"
     ]
    }
   ],
   "source": [
    "# ln (1+x)\n",
    "\n",
    "a = 1\n",
    "summ = 0\n",
    "for i in range(1,1000):\n",
    "    \n",
    "    term = ((-1)**(i+1)) * (a**i)/i\n",
    "    summ += term\n",
    "    \n",
    "print(summ)"
   ]
  },
  {
   "cell_type": "code",
   "execution_count": 35,
   "metadata": {},
   "outputs": [
    {
     "name": "stdout",
     "output_type": "stream",
     "text": [
      "1.999999999999984\n"
     ]
    }
   ],
   "source": [
    "# Some Optimization\n",
    "\n",
    "a = 1\n",
    "summ = 0\n",
    "sgn = 1\n",
    "p_a = a\n",
    "for i in range(1,1000):\n",
    "    sgn = sgn * -1\n",
    "    p_a = p_a * a\n",
    "    \n",
    "    termm = sgn * p_a/(i+1)\n",
    "    summ += term\n",
    "    #print(p_a)\n",
    "print(a + summ)"
   ]
  }
 ],
 "metadata": {
  "kernelspec": {
   "display_name": "Python 3",
   "language": "python",
   "name": "python3"
  },
  "language_info": {
   "codemirror_mode": {
    "name": "ipython",
    "version": 3
   },
   "file_extension": ".py",
   "mimetype": "text/x-python",
   "name": "python",
   "nbconvert_exporter": "python",
   "pygments_lexer": "ipython3",
   "version": "3.6.1"
  }
 },
 "nbformat": 4,
 "nbformat_minor": 2
}
