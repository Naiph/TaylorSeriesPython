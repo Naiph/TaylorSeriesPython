{
 "cells": [
  {
   "cell_type": "code",
   "execution_count": 45,
   "metadata": {},
   "outputs": [
    {
     "name": "stdout",
     "output_type": "stream",
     "text": [
      "373 µs ± 14.4 µs per loop (mean ± std. dev. of 7 runs, 1000 loops each)\n"
     ]
    }
   ],
   "source": [
    "%%timeit\n",
    "# 1/1-x \n",
    "summ1 = 0\n",
    "x=0.8\n",
    "for i in range(1000):\n",
    "    o = x**i\n",
    "    summ1 = summ1 + o\n",
    "\n",
    "    \n",
    "#print(summ1)"
   ]
  },
  {
   "cell_type": "code",
   "execution_count": 46,
   "metadata": {},
   "outputs": [
    {
     "name": "stdout",
     "output_type": "stream",
     "text": [
      "1.84 µs ± 239 ns per loop (mean ± std. dev. of 7 runs, 100000 loops each)\n"
     ]
    }
   ],
   "source": [
    "%%timeit\n",
    "# 1/1-x \n",
    "# 1 + x + x2 + x3..\n",
    "summ1 = 0\n",
    "x=0.1\n",
    "\n",
    "for i in range(1,10):\n",
    "    x = x * x \n",
    "    #print(x)\n",
    "    summ1 = summ1 + x\n",
    "    #print(summ1)\n",
    "\n",
    "#print(summ1 + 1)\n",
    "     "
   ]
  }
 ],
 "metadata": {
  "kernelspec": {
   "display_name": "Python 3",
   "language": "python",
   "name": "python3"
  },
  "language_info": {
   "codemirror_mode": {
    "name": "ipython",
    "version": 3
   },
   "file_extension": ".py",
   "mimetype": "text/x-python",
   "name": "python",
   "nbconvert_exporter": "python",
   "pygments_lexer": "ipython3",
   "version": "3.6.1"
  }
 },
 "nbformat": 4,
 "nbformat_minor": 2
}
