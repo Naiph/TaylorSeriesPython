{
 "cells": [
  {
   "cell_type": "code",
   "execution_count": null,
   "metadata": {
    "collapsed": true
   },
   "outputs": [],
   "source": [
    "import numpy as np\n",
    "\n",
    "def sinn(a):\n",
    "    \n",
    "    if a == 0:\n",
    "        return 0\n",
    "    \n",
    "    #a = int(input(\"enter a power for sin x\"))\n",
    "    #a = 3.1415\n",
    "    while a > 2*np.pi:\n",
    "        a = a - 2*np.pi\n",
    "    \n",
    "    summ = a\n",
    "    f = 1\n",
    "    p_a = a\n",
    "    sgn = 1\n",
    "    for i in range(1,11):\n",
    "        p_a = p_a * a * a\n",
    "        #if i > 0:\n",
    "        f = f * (2 * i) * (2 * i + 1)\n",
    "        #print(\"i is {} p is {} f is {}\".format(i,p,f))\n",
    "        sgn = sgn * (-1)\n",
    "        term = sgn * p_a / f\n",
    "        summ = summ + term\n",
    "        #print(term)\n",
    "        #print(summ)\n",
    "    return summ\n",
    "\n",
    "actualsin = []\n",
    "calcsin = []\n",
    "diff = []\n",
    "\n",
    "for i in range(100):\n",
    "    actualsin.append(np.sin(i))\n",
    "    calcsin.append(sinn(i))\n",
    "    diff.append(sinn(i) - np.sin(i))\n"
   ]
  }
 ],
 "metadata": {
  "kernelspec": {
   "display_name": "Python 3",
   "language": "python",
   "name": "python3"
  },
  "language_info": {
   "codemirror_mode": {
    "name": "ipython",
    "version": 3
   },
   "file_extension": ".py",
   "mimetype": "text/x-python",
   "name": "python",
   "nbconvert_exporter": "python",
   "pygments_lexer": "ipython3",
   "version": "3.6.1"
  }
 },
 "nbformat": 4,
 "nbformat_minor": 2
}
