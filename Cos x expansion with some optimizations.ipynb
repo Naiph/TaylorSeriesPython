{
 "cells": [
  {
   "cell_type": "markdown",
   "metadata": {},
   "source": [
    "Cos x expansion series upto 10 terms: Without any optimization"
   ]
  },
  {
   "cell_type": "code",
   "execution_count": 1,
   "metadata": {},
   "outputs": [
    {
     "name": "stdout",
     "output_type": "stream",
     "text": [
      "4.632679487664134e-05\n",
      "4.632679488e-05\n"
     ]
    }
   ],
   "source": [
    "import numpy as np\n",
    "\n",
    "def fact(b):\n",
    "    if b == 0:\n",
    "        return 1\n",
    "    return b*fact(b-1)\n",
    "\n",
    "\n",
    "#a = int(input(\"enter a power for cos x\"))\n",
    "a = 3.1415/2\n",
    "#e = 2.71\n",
    "summ = 0\n",
    "for i in range(10):\n",
    "    p = a**(2 * i )\n",
    "    f = fact(2 * i)\n",
    "    #print(\"i is {} p is {} f is {}\".format(i,p,f))\n",
    "    term = ((-1)**i)*p/f\n",
    "    summ = summ + term\n",
    "    #print(term)\n",
    "    #print(summ)\n",
    "    \n",
    "print(summ)\n",
    "print(np.cos(a))"
   ]
  },
  {
   "cell_type": "markdown",
   "metadata": {},
   "source": [
    "Cos x expansion with 1 optimizations. Removal of the power operator from sign and each term"
   ]
  },
  {
   "cell_type": "code",
   "execution_count": 2,
   "metadata": {},
   "outputs": [
    {
     "name": "stdout",
     "output_type": "stream",
     "text": [
      "4.632679487659441e-05\n",
      "4.632679488e-05\n"
     ]
    }
   ],
   "source": [
    "def coss(a):\n",
    "    \n",
    "    if a == 0:\n",
    "        return 1\n",
    "    \n",
    "    #a = int(input(\"enter a power for sin x\"))\n",
    "    #a = 3.1415\n",
    "    while a > 2*np.pi:\n",
    "        a = a - 2*np.pi\n",
    "    \n",
    "    summ = 0\n",
    "    f = 1\n",
    "    p_a = 1\n",
    "    sgn = -1\n",
    "    for i in range(1,10):\n",
    "        p_a = p_a * a * a \n",
    "        \n",
    "        f = fact(2 * i)\n",
    "        #print(\"i is {} p is {} f is {}\".format(i,p,f))\n",
    "        sgn = sgn * (-1)\n",
    "        term = sgn * p_a / f\n",
    "        summ = summ + term\n",
    "        #print(term)\n",
    "        #print(summ)\n",
    "    return 1-summ\n",
    " \n",
    "print(coss(3.1415/2))    \n",
    "print(np.cos(3.1415/2))\n",
    "\n",
    "\n",
    "#coslis = []\n",
    "\n",
    "#coslis.append(coss(3.1415/2))\n",
    "#print(coslis)\n"
   ]
  }
 ],
 "metadata": {
  "kernelspec": {
   "display_name": "Python 3",
   "language": "python",
   "name": "python3"
  },
  "language_info": {
   "codemirror_mode": {
    "name": "ipython",
    "version": 3
   },
   "file_extension": ".py",
   "mimetype": "text/x-python",
   "name": "python",
   "nbconvert_exporter": "python",
   "pygments_lexer": "ipython3",
   "version": "3.6.1"
  }
 },
 "nbformat": 4,
 "nbformat_minor": 2
}
